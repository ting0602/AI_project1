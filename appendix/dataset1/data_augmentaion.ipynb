{
 "cells": [
  {
   "attachments": {},
   "cell_type": "markdown",
   "metadata": {},
   "source": [
    "# Data Augmentation"
   ]
  },
  {
   "cell_type": "code",
   "execution_count": 64,
   "metadata": {},
   "outputs": [],
   "source": [
    "import torchvision.transforms as transforms\n",
    "from PIL import Image\n",
    "import os\n",
    "SAVEROOT = './Aug_ColorClassification'\n",
    "def data_augmentation(image_path, save_dir):\n",
    "    save_dir = os.path.join(SAVEROOT, save_dir)\n",
    "    img = Image.open(image_path)\n",
    "    crop_size = 224\n",
    "    prob = 0.7\n",
    "    if min(img.size) < crop_size:\n",
    "        crop_size = min(img.size)\n",
    "\n",
    "    # crop & flip\n",
    "    img_transform = transforms.Compose([\n",
    "        transforms.RandomCrop(size=crop_size),\n",
    "        transforms.RandomHorizontalFlip(p=prob),\n",
    "        transforms.RandomVerticalFlip(p=prob),\n",
    "        transforms.ToTensor(),\n",
    "    ])\n",
    "    img_tensor = img_transform(img)\n",
    "    img_transformed = transforms.ToPILImage()(img_tensor)\n",
    "    img_transformed.save(save_dir)"
   ]
  },
  {
   "cell_type": "code",
   "execution_count": 65,
   "metadata": {},
   "outputs": [],
   "source": [
    "DATADIR = './ColorClassification'\n",
    "SAVEROOT = './Aug_ColorClassification'\n",
    "os.makedirs('./Aug_ColorClassification', exist_ok=True)\n",
    "CATEGORIES = ['orange','Violet','red','Blue','Green','Black','Brown','White']\n",
    "for c in CATEGORIES:\n",
    "    path = os.path.join(DATADIR, c)\n",
    "    class_num = CATEGORIES.index(c)\n",
    "    save_path = c\n",
    "    # save_path = os.path.join(SAVEROOT, c)\n",
    "    os.makedirs(os.path.join(SAVEROOT, c), exist_ok=True)\n",
    "    for img in os.listdir(path):\n",
    "        img_path = os.path.join(path, img)\n",
    "        target = os.path.join(save_path, img)\n",
    "        data_augmentation(img_path, target)"
   ]
  }
 ],
 "metadata": {
  "kernelspec": {
   "display_name": "Python 3",
   "language": "python",
   "name": "python3"
  },
  "language_info": {
   "codemirror_mode": {
    "name": "ipython",
    "version": 3
   },
   "file_extension": ".py",
   "mimetype": "text/x-python",
   "name": "python",
   "nbconvert_exporter": "python",
   "pygments_lexer": "ipython3",
   "version": "3.10.4"
  },
  "orig_nbformat": 4
 },
 "nbformat": 4,
 "nbformat_minor": 2
}
